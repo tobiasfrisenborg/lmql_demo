{
 "cells": [
  {
   "cell_type": "markdown",
   "metadata": {},
   "source": [
    "# LMQL Features\n",
    "This notebook presents some of the features of LMQL with local models.\n",
    "\n",
    "Create the endpoint for model inference:  \n",
    "```\n",
    "lmql serve-model mistralai/Mistral-7B-Instruct-v0.1 --repetition_penalty 1.1 --load_in_4bit True --cuda --port 9999\n",
    "```\n",
    "\n",
    "*See the `examples/local.ipynb` to see how to setup a local model.*"
   ]
  },
  {
   "cell_type": "code",
   "execution_count": 8,
   "metadata": {},
   "outputs": [],
   "source": [
    "import lmql\n",
    "import nest_asyncio\n",
    "nest_asyncio.apply()\n",
    "\n",
    "model_name = \"mistralai/Mistral-7B-Instruct-v0.1\"\n",
    "\n",
    "llm = lmql.model(model_name, endpoint=\"localhost:9999\")\n",
    "\n",
    "BOS_TOKEN = \"<s>\"\n",
    "EOS_TOKEN = \"</s>\"\n",
    "BINST_TOKEN = \"[INST]\"\n",
    "EINST_TOKEN = \"[/INST]\""
   ]
  },
  {
   "cell_type": "markdown",
   "metadata": {},
   "source": [
    "### LLM Placeholders\n",
    "The basic functionality of LMQL is the ability to generate tokens at specific placeholder locations in text. When LMQL runs, the LLM will generate output according to the previously defined strings and store the generated output. This can be used with both completion models and chat models (the latter still requires prompt tokens, depending on the model used). This allows one to guide the output  \n",
    "\n",
    "LMQL can be used in Python by decorating a function with the `@lmql.query()` decorator. Within this function, all top level strings will be treated as LMQL queries. F-string operations are supported (allowing arguments to be passed in using `{}`). It is not necessary to return variables, although it is possible (note that the return should take place *inside* a top-level string)."
   ]
  },
  {
   "cell_type": "code",
   "execution_count": null,
   "metadata": {},
   "outputs": [],
   "source": [
    "# Stop generation on the first newline\n",
    "@lmql.query(model=llm)\n",
    "def capital(country):\n",
    "    '''lmql\n",
    "    # Supports f-string placeholders\n",
    "    \"{BOS_TOKEN}{BINST_TOKEN} What is the capital of {country}? {EINST_TOKEN}\"\n",
    "    \n",
    "    # Guide output\n",
    "    \"The capital city of {country} is[CAPITAL]\"\n",
    "    \n",
    "    # Return statements must be within the top-level strings\n",
    "    # return CAPITAL\n",
    "    '''\n",
    "\n",
    "result = capital(\"Denmark\")\n",
    "\n",
    "# Get the entire prompt\n",
    "print(f\"Full prompt: {result.prompt}\")\n",
    "\n",
    "# Access placeholder variables\n",
    "print(f\"CAPITAL variable: {result.variables['CAPITAL']}\")"
   ]
  },
  {
   "cell_type": "markdown",
   "metadata": {},
   "source": [
    "### Constraints and programmatic usage\n",
    "One of the main features of LMQL is that it allows you to constrain the generated output from an LLM. A detailed overview can be found in the [LMQL documentation](https://lmql.ai/docs/language/constraints.html).\n",
    "\n",
    "In general, it is possible to use the following constraints:\n",
    "* Stop generation at specific tokens (i.e., punctuation, newline)\n",
    "* Limit the length of generated output\n",
    "* Constrain the output type (i.e. enforce an integer at a specific point)\n",
    "* Limit possible tokens to a limited number of items (token masking)\n",
    "* Custom constraints"
   ]
  },
  {
   "cell_type": "code",
   "execution_count": 9,
   "metadata": {},
   "outputs": [
    {
     "name": "stdout",
     "output_type": "stream",
     "text": [
      "<s>[INST] Tell me a joke about dogs [/INST]Why did the dog go to the gym? He wanted to get ruff\n"
     ]
    }
   ],
   "source": [
    "# Stop generation on the first newline\n",
    "@lmql.query(model=llm)\n",
    "def dog_joke():\n",
    "    '''lmql\n",
    "    \"{BOS_TOKEN}{BINST_TOKEN} Tell me a joke about dogs {EINST_TOKEN}\"\n",
    "    \n",
    "    # Stop at the first newline\n",
    "    \"Why did the dog[DOG_JOKE]\" where STOPS_AT(DOG_JOKE, '\\n')\n",
    "    '''\n",
    "\n",
    "result = dog_joke()\n",
    "print(result.prompt)"
   ]
  },
  {
   "cell_type": "code",
   "execution_count": 10,
   "metadata": {},
   "outputs": [
    {
     "name": "stdout",
     "output_type": "stream",
     "text": [
      "Result: 8, type: <class 'int'>\n"
     ]
    }
   ],
   "source": [
    "# Enforce a specific type of the output\n",
    "@lmql.query(model=llm)\n",
    "def meaning():\n",
    "    '''lmql\n",
    "    \"{BOS_TOKEN}{BINST_TOKEN} How many planets are in the solar system? {EINST_TOKEN}\"\n",
    "    \n",
    "    # Make sure that we get an integer of 2 digits or less\n",
    "    \"There are [N] planets in the solar system\" where INT(N) and len(N) < 3\n",
    "    '''\n",
    "\n",
    "result = meaning()\n",
    "print(f\"Result: {result.variables['N']}, type: {type(result.variables['N'])}\")"
   ]
  },
  {
   "cell_type": "markdown",
   "metadata": {},
   "source": [
    "Regex is also supported."
   ]
  },
  {
   "cell_type": "code",
   "execution_count": 11,
   "metadata": {},
   "outputs": [
    {
     "name": "stdout",
     "output_type": "stream",
     "text": [
      "positive\n"
     ]
    }
   ],
   "source": [
    "# Limit options to a subset of tokens\n",
    "@lmql.query(model=llm)\n",
    "def review_sentiment(review):\n",
    "    '''lmql\n",
    "    \"{BOS_TOKEN}{BINST_TOKEN} Review: {review}\"\n",
    "    \"What is the sentiment of this review? {EINST_TOKEN}\"\n",
    "    \n",
    "    # Classify the sentiment\n",
    "    \"The sentiment of the review is [SENTIMENT]\" where SENTIMENT in ['positive', 'neutral', 'negative']\n",
    "    '''\n",
    "\n",
    "result = review_sentiment(review='We had a lovely stay and the food was great!')\n",
    "print(result.variables['SENTIMENT'])"
   ]
  },
  {
   "cell_type": "markdown",
   "metadata": {},
   "source": [
    "### Measuring distributions\n",
    "LMQL allows changing the decoding algorithms which in turn enables access to token probability distributions. This means that LLMs can be used as classifiers, for example by applying the argmax decoding algorithm for a token mask.\n",
    "\n",
    "Several decoding algorithms, such as argmax and beam search. See more in the [LMQL documentation](https://lmql.ai/docs/language/decoding.html)"
   ]
  },
  {
   "cell_type": "code",
   "execution_count": null,
   "metadata": {},
   "outputs": [],
   "source": [
    "# Limit options to a subset of tokens\n",
    "@lmql.query(model=llm)\n",
    "def meaning():\n",
    "    '''lmql\n",
    "    argmax\n",
    "        \"{BOS_TOKEN}{BINST_TOKEN} What is the best country in scandinavia? {EINST_TOKEN}\"\n",
    "        \"The best country in scandinavia is [REASONING]\"\n",
    "        \"Therefore, the answer is [COUNTRY]\" distribution COUNTRY in ['Denmark', 'Sweden', 'Norway', 'Finalnd', 'Iceland']\n",
    "    '''\n",
    "\n",
    "result = meaning()\n",
    "print(f\"Reasoning: {result.variables['REASONING']}\")\n",
    "print(f\"Result: {result.variables['COUNTRY']}\")\n",
    "print(f\"Token distributions: {result.variables['P(COUNTRY)']}\")"
   ]
  },
  {
   "cell_type": "markdown",
   "metadata": {},
   "source": [
    "### Tool augmentation\n",
    "It's fairly straightforward to implement tools in LMQL. Coroutines are also supported (`async` and `await`) in the LMQL query (as seen in below example). To use a tool, just define a custom function with the tool interaction and call it from the LMQL query."
   ]
  },
  {
   "cell_type": "code",
   "execution_count": 13,
   "metadata": {},
   "outputs": [
    {
     "name": "stdout",
     "output_type": "stream",
     "text": [
      "<s>[INST] Who invented the game Monopoly? [/INST]\n",
      "\n",
      "Let's search Wikipedia for the term 'Monopoly'\n",
      "\n",
      "Result: A monopoly (from Greek μόνος, mónos, 'single, alone' and πωλεῖν, pōleîn, 'to sell'), as described by Irving Fisher, is a market with the \"absence of competition\", creating a situation where a specific person or enterprise is the only supplier of a particular thing. This contrasts with a monopsony which relates to a single entity's control of a market to purchase a good or service, and with oligopoly and duopoly which consists of a few sellers dominating a market. Monopolies are thus characterised by a lack of economic competition to produce the good or service, a lack of viable substitute goods, and the possibility of a high monopoly price well above the seller's marginal cost that leads to a high monopoly profit. The verb monopolise or monopolize refers to the process by which a company gains the ability to raise prices or exclude competitors. In economics, a monopoly is a single seller. In law, a monopoly is a business entity that has significant market power, that is, the power to charge overly high prices, which is associated with a decrease in social surplus. Although monopolies may be big businesses, size is not a characteristic of a monopoly. A small business may still have the power to raise prices in a small industry (or market).A monopoly may also have monopsony control of a sector of a market. Likewise, a monopoly should be distinguished from a cartel (a form of oligopoly), in which several providers act together to coordinate services, prices or sale of goods. Monopolies, monopsonies and oligopolies are all situations in which one or a few entities have market power and therefore interact with their customers (monopoly or oligopoly), or suppliers (monopsony) in ways that distort the market.Monopolies can be established by a government, form naturally, or form by integration. In many jurisdictions, competition laws restrict monopolies due to government concerns over potential adverse effects. Holding a dominant position or a monopoly in a market is often not illegal in itself; however, certain categories of behavior can be considered abusive and therefore incur legal sanctions when business is dominant. A government-granted monopoly or legal monopoly, by contrast, is sanctioned by the state, often to provide an incentive to invest in a risky venture or enrich a domestic interest group. Patents, copyrights, and trademarks are sometimes used as examples of government-granted monopolies. The government may also reserve the venture for itself, thus forming a government monopoly, for example with a state-owned company.Monopolies may be naturally occurring due to limited competition because the industry is resource intensive and requires substantial costs to operate (e.g., certain railroad systems).Does this result answer the question? yesFinal answer: \n",
      "\n",
      "The invention of the game Monopoly is attributed to Charles Darrow, who created it during the Great Depression. However, there were earlier games with similar mechanics, such as \"The Landlord's Game,\" created by Elizabeth Magie in 1903.\n"
     ]
    }
   ],
   "source": [
    "# Define a \"Wikipedia search\" tool using the Wikipedia API\n",
    "import requests\n",
    "\n",
    "async def wikipedia_search(term):\n",
    "    try:\n",
    "        term = term.strip(\"\\n '.\")\n",
    "        result = requests.get(f\"https://en.wikipedia.org/w/api.php?format=json&action=query&prop=extracts&exintro&explaintext&redirects=1&titles={term}&origin=*\")\n",
    "        result = eval(result.text)\n",
    "        result = result['query']['pages']\n",
    "        first_page_id = list(result.keys())[0]\n",
    "        result = result[first_page_id]['extract']\n",
    "    except:\n",
    "        return \"No result\"\n",
    "        \n",
    "    return result\n",
    "\n",
    "# Limit options to a subset of tokens\n",
    "@lmql.query(model=llm)\n",
    "def wikipedia_qa(question):\n",
    "    '''lmql\n",
    "    \"{BOS_TOKEN}{BINST_TOKEN} {question} {EINST_TOKEN}\\n\\n\"\n",
    "    \n",
    "    \"Let's search Wikipedia for the term '[TERM]\\n\\n\" where STOPS_AT(TERM, \"'\")\n",
    "    \n",
    "    result = await wikipedia_search(TERM)\n",
    "\n",
    "    \"Background information: {result}\"\n",
    "    \n",
    "    \"Does this result answer the question? [YESNO]\" where YESNO in set(['yes', 'no'])\n",
    "    \n",
    "    \"Final answer: [ANSWER]\"\n",
    "    '''\n",
    "\n",
    "result = wikipedia_qa(question='Who invented the game Monopoly?')\n",
    "print(result.prompt)"
   ]
  }
 ],
 "metadata": {
  "kernelspec": {
   "display_name": ".lmql_demo_venv",
   "language": "python",
   "name": "python3"
  },
  "language_info": {
   "codemirror_mode": {
    "name": "ipython",
    "version": 3
   },
   "file_extension": ".py",
   "mimetype": "text/x-python",
   "name": "python",
   "nbconvert_exporter": "python",
   "pygments_lexer": "ipython3",
   "version": "3.10.13"
  }
 },
 "nbformat": 4,
 "nbformat_minor": 2
}
